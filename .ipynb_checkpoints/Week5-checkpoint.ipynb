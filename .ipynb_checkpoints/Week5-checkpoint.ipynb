{
 "cells": [
  {
   "cell_type": "code",
   "execution_count": 23,
   "metadata": {},
   "outputs": [],
   "source": [
    "from urllib import request\n",
    "import nltk"
   ]
  },
  {
   "cell_type": "code",
   "execution_count": 37,
   "metadata": {},
   "outputs": [
    {
     "data": {
      "text/plain": [
       "1176965"
      ]
     },
     "execution_count": 37,
     "metadata": {},
     "output_type": "execute_result"
    }
   ],
   "source": [
    "url = \"http://www.gutenberg.org/files/2554/2554-0.txt\"\n",
    "raw = request.urlopen(url).read().decode('utf-8')\n",
    "len(raw)"
   ]
  },
  {
   "cell_type": "code",
   "execution_count": 38,
   "metadata": {},
   "outputs": [
    {
     "data": {
      "text/plain": [
       "'\\ufeffThe Project Gutenberg EBook of Crime and Punishment, by Fyodor Dostoevsky\\r'"
      ]
     },
     "execution_count": 38,
     "metadata": {},
     "output_type": "execute_result"
    }
   ],
   "source": [
    "raw[:75]"
   ]
  },
  {
   "cell_type": "code",
   "execution_count": 39,
   "metadata": {},
   "outputs": [
    {
     "data": {
      "text/plain": [
       "str"
      ]
     },
     "execution_count": 39,
     "metadata": {},
     "output_type": "execute_result"
    }
   ],
   "source": [
    "type(raw)"
   ]
  },
  {
   "cell_type": "code",
   "execution_count": 40,
   "metadata": {},
   "outputs": [
    {
     "data": {
      "text/plain": [
       "'\\ufeffThe Project Gutenberg EBook of Crime and Punishment, by Fyodor Dostoevsky\\r\\n\\r\\nThis eBook is for the use of anyone anywhere at no cost and with\\r\\nalmost no restrictions whatsoever.  You may copy it, give it away or\\r\\nre-use it under the terms of the Project Gutenberg License included\\r\\nwith this eBook or online at www.gutenberg.org\\r\\n\\r\\n\\r\\nTitle: Crime and Punishment\\r\\n\\r'"
      ]
     },
     "execution_count": 40,
     "metadata": {},
     "output_type": "execute_result"
    }
   ],
   "source": [
    "raw[:365]"
   ]
  },
  {
   "cell_type": "code",
   "execution_count": 41,
   "metadata": {},
   "outputs": [
    {
     "data": {
      "text/plain": [
       "list"
      ]
     },
     "execution_count": 41,
     "metadata": {},
     "output_type": "execute_result"
    }
   ],
   "source": [
    "tokens = nltk.word_tokenize(raw)\n",
    "type(tokens)"
   ]
  },
  {
   "cell_type": "code",
   "execution_count": 42,
   "metadata": {},
   "outputs": [
    {
     "data": {
      "text/plain": [
       "['\\ufeffThe',\n",
       " 'Project',\n",
       " 'Gutenberg',\n",
       " 'EBook',\n",
       " 'of',\n",
       " 'Crime',\n",
       " 'and',\n",
       " 'Punishment',\n",
       " ',',\n",
       " 'by']"
      ]
     },
     "execution_count": 42,
     "metadata": {},
     "output_type": "execute_result"
    }
   ],
   "source": [
    "tokens[:10]"
   ]
  },
  {
   "cell_type": "code",
   "execution_count": 43,
   "metadata": {},
   "outputs": [
    {
     "data": {
      "text/plain": [
       "5336"
      ]
     },
     "execution_count": 43,
     "metadata": {},
     "output_type": "execute_result"
    }
   ],
   "source": [
    "raw.find(\"PART I\") "
   ]
  },
  {
   "cell_type": "code",
   "execution_count": 47,
   "metadata": {},
   "outputs": [
    {
     "data": {
      "text/plain": [
       "1157810"
      ]
     },
     "execution_count": 47,
     "metadata": {},
     "output_type": "execute_result"
    }
   ],
   "source": [
    "raw.rfind(\"End of Project\")"
   ]
  },
  {
   "cell_type": "code",
   "execution_count": 48,
   "metadata": {
    "collapsed": true
   },
   "outputs": [],
   "source": [
    "chaptor_one = raw[5336:1157810] "
   ]
  },
  {
   "cell_type": "code",
   "execution_count": 50,
   "metadata": {
    "scrolled": true
   },
   "outputs": [
    {
     "data": {
      "text/plain": [
       "'PART I\\r\\n\\r\\n\\r\\n\\r\\nCHAPTER I\\r\\n\\r\\nOn an exceptionally hot evening early in July a young man came out of\\r\\nth'"
      ]
     },
     "execution_count": 50,
     "metadata": {},
     "output_type": "execute_result"
    }
   ],
   "source": [
    "chaptor_one[:100]"
   ]
  },
  {
   "cell_type": "code",
   "execution_count": 51,
   "metadata": {},
   "outputs": [
    {
     "data": {
      "text/plain": [
       "'<!doctype html public \"-//W3C//DTD HTML 4.0 Transitional//EN'"
      ]
     },
     "execution_count": 51,
     "metadata": {},
     "output_type": "execute_result"
    }
   ],
   "source": [
    "url2 = \"http://news.bbc.co.uk/2/hi/health/2284783.stm\"\n",
    "html = request.urlopen(url2).read().decode('utf-8')\n",
    "html[:60]"
   ]
  },
  {
   "cell_type": "code",
   "execution_count": 54,
   "metadata": {},
   "outputs": [],
   "source": [
    "from bs4 import BeautifulSoup\n",
    "soup = BeautifulSoup(html, 'html.parser')"
   ]
  },
  {
   "cell_type": "code",
   "execution_count": 58,
   "metadata": {
    "scrolled": false
   },
   "outputs": [
    {
     "data": {
      "text/plain": [
       "'\\n\\n\\nBBC NEWS | Health | Blondes \\'to die out in 200 years\\'\\n\\n\\n\\n\\n\\n\\n\\n\\n\\n\\n\\n\\n\\n\\n\\n\\n\\n\\n\\n\\n\\n\\n\\n\\n\\n\\n\\n\\n\\n\\n\\n\\n\\n\\n\\n\\n\\n\\nNEWS\\n\\xa0\\xa0SPORT\\n\\xa0\\xa0WEATHER\\n\\xa0\\xa0WORLD SERVICE\\n\\n\\xa0\\xa0A-Z INDEX\\xa0\\n\\n\\xa0\\xa0SEARCH\\xa0\\n\\n\\n\\n\\n\\n\\n\\n\\n\\n\\n\\n\\n\\n\\n\\n\\n\\n\\n\\n\\n\\n\\n\\n\\n\\n\\n\\n\\n\\n\\n\\n\\n\\n\\n\\n\\n\\n\\n\\n\\n\\n\\n\\n\\r\\n    \\xa0You are in:\\xa0Health \\xa0\\r\\n    \\r\\n    \\r\\n\\n\\n\\n\\n\\n\\n\\n\\n\\n\\n\\nNews Front Page\\n\\n\\n\\n\\n\\nAfrica\\n\\n\\nAmericas\\n\\n\\nAsia-Pacific\\n\\n\\nEurope\\n\\n\\nMiddle East\\n\\n\\nSouth Asia\\n\\n\\nUK\\n\\n\\nBusiness\\n\\n\\nEntertainment\\n\\n\\nScience/Nature\\n\\n\\nTechnology\\n\\n\\nHealth\\n\\n\\nMedical notes\\n\\n\\n-------------\\n\\n\\nTalking Point\\n\\n\\n-------------\\n\\n\\nCountry Profiles\\n\\n\\nIn Depth\\n\\n\\n-------------\\n\\n\\nProgrammes\\n\\n\\n-------------\\n\\n\\n\\n\\n\\n\\n\\n\\n\\n\\n\\n\\n\\n\\n\\n\\n\\n\\n\\n\\n\\n\\n\\n\\n\\n\\nSERVICES\\r\\n\\n\\n\\n\\n\\n\\n\\nDaily E-mail\\r\\n\\n\\n\\n\\n\\n\\n\\nNews Ticker\\r\\n\\n\\n\\n\\n\\n\\n\\nMobile/PDAs\\r\\n\\n\\n\\n\\n\\n\\n-------------\\r\\n\\n\\n\\n\\n\\n\\n\\n\\n\\n\\n\\n\\n\\n\\n\\nText Only\\n\\n\\n\\n\\n\\n\\n\\n\\nFeedback\\r\\n\\n\\n\\n\\n\\n\\n\\nHelp\\r\\n\\n\\n\\n\\n\\n\\n\\n\\n\\n\\n\\n\\n\\n\\n\\n\\n\\n\\n\\n\\n\\n\\n\\n\\nEDITIONS\\r\\n\\n\\n\\n\\n\\n\\n\\nChange to UK\\r\\n\\n\\n\\n\\n\\n\\n\\n\\n\\n\\n\\n\\n\\n\\n\\nFriday, 27 September, 2002, 11:51 GMT 12:51 UK\\r\\n\\nBlondes \\'to die out in 200 years\\'\\n\\n\\nScientists believe the last blondes will be in Finland\\n\\n\\n\\r\\n\\tThe last natural blondes will die out within 200 years, scientists believe. \\r\\n\\r\\nA study by experts in Germany suggests people with blonde hair are an endangered species and will become extinct by 2202.\\r\\n\\r\\nResearchers predict the last truly natural blonde will be born in Finland - the country with the highest proportion of blondes. \\r\\n\\n\\n\\n\\n\\r\\n\\r\\n\\r\\n\\r\\n\\r\\n\\r\\n\\tThe frequency of blondes may drop but they won\\'t disappear\\r\\n\\r\\n\\r\\n\\r\\n\\r\\n\\r\\n\\t\\n\\n\\r\\n\\r\\n\\r\\n\\r\\n\\r\\n\\r\\n\\tProf Jonathan Rees, University of Edinburgh\\r\\n\\r\\n\\r\\n\\r\\n\\r\\n\\r\\n\\t\\n\\r\\n\\r\\n\\r\\n\\r\\n\\r\\n\\t\\r\\nBut they say too few people now carry the gene for blondes to last beyond the next two centuries. \\r\\n\\r\\nThe problem is that blonde hair is caused by a recessive gene. \\r\\n\\r\\nIn order for a child to have blonde hair, it must have the gene on both sides of the family in the grandparents\\' generation. \\r\\nDyed rivals\\n\\r\\n\\r\\nThe researchers also believe that so-called bottle blondes may be to blame for the demise of their natural rivals. \\r\\n\\r\\nThey suggest that dyed-blondes are more attractive to men who choose them as partners over true blondes. \\r\\n\\n\\n\\n\\n\\nBottle-blondes like Ann Widdecombe may be to blame\\n\\n\\r\\n\\t\\t\\r\\n\\r\\n\\t\\r\\nBut Jonathan Rees, professor of dermatology at the University of Edinburgh said it was unlikely blondes would die out completely. \\r\\n\\r\\n\"Genes don\\'t die out unless there is a disadvantage of having that gene or by chance. They don\\'t disappear,\" he told BBC News Online.\\r\\n\\r\\n\"The only reason blondes would disappear is if having the gene was a disadvantage and I do not think that is the case. \\r\\n\\r\\n\"The frequency of blondes may drop but they won\\'t disappear.\"\\r\\n\\n\\n\\n\\n\\n\\nSee also:\\n\\n28 Mar 01\\xa0|\\xa0Education\\nWhat is it about blondes?\\n\\n\\n09 Apr 99\\xa0|\\xa0Health\\nPlatinum blondes are labelled as dumb\\n\\n\\n17 Apr 02\\xa0|\\xa0Health\\nHair dye cancer alert\\n\\n\\n\\nInternet links:\\nUniversity of Edinburgh\\nThe BBC is not responsible for the content of external internet sites\\n\\n\\nTop Health stories now:\\nHeart risk link to big families\\nBack pain drug \\'may aid diabetics\\'\\nCongo Ebola outbreak confirmed\\nVegetables ward off Alzheimer\\'s\\nPolio campaign launched in Iraq\\nGene defect explains high blood pressure\\nBotox \\'may cause new wrinkles\\'\\nAlien \\'abductees\\' show real symptoms\\n\\n\\nLinks to more Health stories are at the foot of the page.\\n\\n\\n\\n\\n\\n\\n\\n\\n\\n\\n\\n\\n E-mail this story to a friend\\n\\n\\n\\n\\n\\n\\n\\n\\n\\n\\n\\n\\n\\nLinks to more Health stories\\n\\n\\n\\nIn This Section\\nHeart risk link to big families\\nBack pain drug \\'may aid diabetics\\'\\nCongo Ebola outbreak confirmed\\nVegetables ward off Alzheimer\\'s\\nPolio campaign launched in Iraq\\nGene defect explains high blood pressure\\nBotox \\'may cause new wrinkles\\'\\nAlien \\'abductees\\' show real symptoms\\nHow sperm wriggle\\nBollywood told to stub it out\\nFears over tuna health risk to babies\\nPublic can be taught to spot strokes\\n\\n\\n\\n\\n\\n\\n\\n\\n\\n\\n\\n\\n\\n\\n\\n\\n\\n\\n\\n\\n\\n\\n^^  \\nBack to top\\n\\n\\n\\n\\n\\n\\n\\nNews Front Page\\r\\n | \\r\\n\\r\\n\\r\\nAfrica\\r\\n | \\r\\n\\r\\n\\r\\nAmericas\\r\\n | \\r\\n\\r\\n\\r\\nAsia-Pacific\\r\\n | \\r\\n\\r\\n\\r\\nEurope\\r\\n | \\r\\n\\r\\n\\r\\nMiddle East\\r\\n | \\r\\n\\nSouth Asia\\r\\n | \\r\\n\\r\\n\\r\\nUK\\r\\n | \\r\\n\\r\\n\\r\\nBusiness\\r\\n | \\r\\n\\r\\n\\r\\nEntertainment\\r\\n | \\r\\n\\r\\n\\r\\nScience/Nature\\r\\n | \\r\\n\\nTechnology\\r\\n | \\r\\n\\r\\n\\r\\nHealth\\r\\n | \\r\\n\\r\\n\\r\\nTalking Point\\r\\n | \\r\\n\\r\\nCountry Profiles\\r\\n\\r\\n | \\r\\n\\r\\nIn Depth\\r\\n\\r\\n | \\r\\n\\nProgrammes\\n\\n\\n\\n\\n\\n\\n\\n\\n\\n\\n----------------------------------------------------------------------------------\\r\\n\\n\\nTo BBC Sport>>\\r\\n |\\r\\n To BBC Weather>>\\r\\n |\\r\\n To BBC World Service>>\\r\\n\\n\\n----------------------------------------------------------------------------------\\r\\n\\n\\n© MMIII\\r\\n |\\r\\n News Sources\\r\\n |\\r\\n Privacy\\r\\n\\n\\n\\n\\n\\n\\n\\n<!--\\r\\nvar pCid=\"uk_bbc_0\";\\r\\nvar w0=1;\\r\\nvar refR=escape(document.referrer);\\r\\nif (refR.length>=252) refR=refR.substring(0,252)+\"...\";\\r\\n//-->\\n<!--\\r\\nvar w0=0;\\r\\n//-->\\n\\n\\n<!--\\r\\nif(w0){\\r\\nvar imgN=\\'<img src=\"http://server-uk.imrworldwide.com/cgi-bin/count?ref=\\'+\\r\\n\\trefR+\\'&cid=\\'+pCid+\\'\" width=1 height=1>\\';\\r\\nif(navigator.userAgent.indexOf(\\'Mac\\')!=-1){document.write(imgN);\\r\\n}else{\\r\\n\\tdocument.write(\\'<applet code=\"Measure.class\" \\'+\\r\\n\\t\\'codebase=\"http://server-uk.imrworldwide.com/\"\\'+\\'width=1 height=2>\\'+\\r\\n\\t\\'<param name=\"ref\" value=\"\\'+refR+\\'\">\\'+\\'<param name=\"cid\" value=\"\\'+pCid+\\r\\n\\t\\'\"><textflow>\\'+imgN+\\'</textflow></applet>\\');\\r\\n\\t}\\r\\n}\\r\\ndocument.write(\"<COMMENT>\");\\r\\n//-->\\r\\n\\n\\n\\n\\n\\n\\n\\r\\n\\tvar si = document.location+\"\";\\r\\n\\tvar tsi = si.replace(\".stm\",\"\").substr(si.length-11, si.length);\\r\\n\\tif (!tsi.match(/\\\\d\\\\d\\\\d\\\\d\\\\d\\\\d\\\\d/)) {tsi = 0;}\\r\\n\\tdocument.write(\\'<img src=\"http://stats.bbc.co.uk/o.gif?~RS~s~RS~News~RS~t~RS~HighWeb_Legacy~RS~i~RS~\\' + tsi + \\'~RS~p~RS~0~RS~u~RS~/2/hi/health/2284783.stm~RS~r~RS~(none)~RS~a~RS~International~RS~q~RS~~RS~z~RS~04~RS~\">\\');\\r\\n\\n\\n\\n\\n\\n\\n\\n\\n'"
      ]
     },
     "execution_count": 58,
     "metadata": {},
     "output_type": "execute_result"
    }
   ],
   "source": [
    "soup.get_text()"
   ]
  },
  {
   "cell_type": "code",
   "execution_count": 61,
   "metadata": {},
   "outputs": [
    {
     "data": {
      "text/plain": [
       "2452"
      ]
     },
     "execution_count": 61,
     "metadata": {},
     "output_type": "execute_result"
    }
   ],
   "source": [
    "html_txt.rfind('The frequency of blondes may drop but they won\\'t disappear.')"
   ]
  },
  {
   "cell_type": "code",
   "execution_count": 60,
   "metadata": {},
   "outputs": [
    {
     "data": {
      "text/plain": [
       "847"
      ]
     },
     "execution_count": 60,
     "metadata": {},
     "output_type": "execute_result"
    }
   ],
   "source": [
    "html_txt = soup.get_text()\n",
    "html_txt.find('Blondes \\'to die out in 200 years', 24)"
   ]
  },
  {
   "cell_type": "code",
   "execution_count": null,
   "metadata": {
    "collapsed": true
   },
   "outputs": [],
   "source": [
    "print(html)"
   ]
  },
  {
   "cell_type": "code",
   "execution_count": 63,
   "metadata": {},
   "outputs": [
    {
     "data": {
      "text/plain": [
       "'Blondes \\'to die out in 200 years\\'\\n\\n\\nScientists believe the last blondes will be in Finland\\n\\n\\n\\r\\n\\tThe last natural blondes will die out within 200 years, scientists believe. \\r\\n\\r\\nA study by experts in Germany suggests people with blonde hair are an endangered species and will become extinct by 2202.\\r\\n\\r\\nResearchers predict the last truly natural blonde will be born in Finland - the country with the highest proportion of blondes. \\r\\n\\n\\n\\n\\n\\r\\n\\r\\n\\r\\n\\r\\n\\r\\n\\r\\n\\tThe frequency of blondes may drop but they won\\'t disappear\\r\\n\\r\\n\\r\\n\\r\\n\\r\\n\\r\\n\\t\\n\\n\\r\\n\\r\\n\\r\\n\\r\\n\\r\\n\\r\\n\\tProf Jonathan Rees, University of Edinburgh\\r\\n\\r\\n\\r\\n\\r\\n\\r\\n\\r\\n\\t\\n\\r\\n\\r\\n\\r\\n\\r\\n\\r\\n\\t\\r\\nBut they say too few people now carry the gene for blondes to last beyond the next two centuries. \\r\\n\\r\\nThe problem is that blonde hair is caused by a recessive gene. \\r\\n\\r\\nIn order for a child to have blonde hair, it must have the gene on both sides of the family in the grandparents\\' generation. \\r\\nDyed rivals\\n\\r\\n\\r\\nThe researchers also believe that so-called bottle blondes may be to blame for the demise of their natural rivals. \\r\\n\\r\\nThey suggest that dyed-blondes are more attractive to men who choose them as partners over true blondes. \\r\\n\\n\\n\\n\\n\\nBottle-blondes like Ann Widdecombe may be to blame\\n\\n\\r\\n\\t\\t\\r\\n\\r\\n\\t\\r\\nBut Jonathan Rees, professor of dermatology at the University of Edinburgh said it was unlikely blondes would die out completely. \\r\\n\\r\\n\"Genes don\\'t die out unless there is a disadvantage of having that gene or by chance. They don\\'t disappear,\" he told BBC News Online.\\r\\n\\r\\n\"The only reason blondes would disappear is if having the gene was a disadvantage and I do not think that is the case. \\r\\n\\r\\n\"'"
      ]
     },
     "execution_count": 63,
     "metadata": {},
     "output_type": "execute_result"
    }
   ],
   "source": [
    "html_txt[847:2452]"
   ]
  },
  {
   "cell_type": "code",
   "execution_count": 65,
   "metadata": {},
   "outputs": [
    {
     "data": {
      "text/plain": [
       "59"
      ]
     },
     "execution_count": 65,
     "metadata": {},
     "output_type": "execute_result"
    }
   ],
   "source": [
    "len('The frequency of blondes may drop but they won\\'t disappear.')"
   ]
  },
  {
   "cell_type": "code",
   "execution_count": 66,
   "metadata": {
    "scrolled": true
   },
   "outputs": [
    {
     "name": "stdout",
     "output_type": "stream",
     "text": [
      "Blondes 'to die out in 200 years'\n",
      "\n",
      "\n",
      "Scientists believe the last blondes will be in Finland\n",
      "\n",
      "\n",
      "\r\n",
      "\tThe last natural blondes will die out within 200 years, scientists believe. \r\n",
      "\r\n",
      "A study by experts in Germany suggests people with blonde hair are an endangered species and will become extinct by 2202.\r\n",
      "\r\n",
      "Researchers predict the last truly natural blonde will be born in Finland - the country with the highest proportion of blondes. \r\n",
      "\n",
      "\n",
      "\n",
      "\n",
      "\r\n",
      "\r\n",
      "\r\n",
      "\r\n",
      "\r\n",
      "\r\n",
      "\tThe frequency of blondes may drop but they won't disappear\r\n",
      "\r\n",
      "\r\n",
      "\r\n",
      "\r\n",
      "\r\n",
      "\t\n",
      "\n",
      "\r\n",
      "\r\n",
      "\r\n",
      "\r\n",
      "\r\n",
      "\r\n",
      "\tProf Jonathan Rees, University of Edinburgh\r\n",
      "\r\n",
      "\r\n",
      "\r\n",
      "\r\n",
      "\r\n",
      "\t\n",
      "\r\n",
      "\r\n",
      "\r\n",
      "\r\n",
      "\r\n",
      "\t\r\n",
      "But they say too few people now carry the gene for blondes to last beyond the next two centuries. \r\n",
      "\r\n",
      "The problem is that blonde hair is caused by a recessive gene. \r\n",
      "\r\n",
      "In order for a child to have blonde hair, it must have the gene on both sides of the family in the grandparents' generation. \r\n",
      "Dyed rivals\n",
      "\r\n",
      "\r\n",
      "The researchers also believe that so-called bottle blondes may be to blame for the demise of their natural rivals. \r\n",
      "\r\n",
      "They suggest that dyed-blondes are more attractive to men who choose them as partners over true blondes. \r\n",
      "\n",
      "\n",
      "\n",
      "\n",
      "\n",
      "Bottle-blondes like Ann Widdecombe may be to blame\n",
      "\n",
      "\r\n",
      "\t\t\r\n",
      "\r\n",
      "\t\r\n",
      "But Jonathan Rees, professor of dermatology at the University of Edinburgh said it was unlikely blondes would die out completely. \r\n",
      "\r\n",
      "\"Genes don't die out unless there is a disadvantage of having that gene or by chance. They don't disappear,\" he told BBC News Online.\r\n",
      "\r\n",
      "\"The only reason blondes would disappear is if having the gene was a disadvantage and I do not think that is the case. \r\n",
      "\r\n",
      "\"The frequency of blondes may drop but they won't disappear.\n"
     ]
    }
   ],
   "source": [
    "print(html_txt[847:2452+59])"
   ]
  },
  {
   "cell_type": "code",
   "execution_count": 68,
   "metadata": {},
   "outputs": [
    {
     "name": "stdout",
     "output_type": "stream",
     "text": [
      "Displaying 5 of 5 matches:\n",
      "hey say too few people now carry the gene for blondes to last beyond the next \n",
      "blonde hair is caused by a recessive gene . In order for a child to have blond\n",
      " have blonde hair , it must have the gene on both sides of the family in the g\n",
      "ere is a disadvantage of having that gene or by chance . They do n't disappear\n",
      "des would disappear is if having the gene was a disadvantage and I do not thin\n"
     ]
    }
   ],
   "source": [
    "newsss = html_txt[847:2452+60]\n",
    "tokens = nltk.word_tokenize(newsss)\n",
    "text = nltk.Text(tokens)\n",
    "text.concordance(\"gene\")"
   ]
  },
  {
   "cell_type": "code",
   "execution_count": 69,
   "metadata": {},
   "outputs": [
    {
     "data": {
      "text/plain": [
       "nltk.text.Text"
      ]
     },
     "execution_count": 69,
     "metadata": {},
     "output_type": "execute_result"
    }
   ],
   "source": [
    "type(text)"
   ]
  },
  {
   "cell_type": "code",
   "execution_count": 70,
   "metadata": {},
   "outputs": [
    {
     "name": "stdout",
     "output_type": "stream",
     "text": [
      "<Text: Blondes 'to die out in 200 years' Scientists...>\n"
     ]
    }
   ],
   "source": [
    "print(text)"
   ]
  },
  {
   "cell_type": "code",
   "execution_count": 75,
   "metadata": {},
   "outputs": [
    {
     "name": "stdout",
     "output_type": "stream",
     "text": [
      "{'on', 'was', 'News', 'born', 'like', 'people', 'next', 'species', 'child', 'and', 'wo', \"'to\", 'proportion', 'demise', 'true', 'their', 'But', 'Ann', 'within', 'Dyed', 'be', 'to', 'years', 'generation', 'gene', 'is', 'choose', 'Researchers', 'who', 'predict', 'he', 'of', 'would', 'but', 'frequency', 'chance', 'at', 'Widdecombe', 'are', 'experts', 'it', 'as', 'They', 'dermatology', 'they', 'an', 'only', 'I', 'unlikely', 'will', 'Prof', 'University', 'BBC', '``', 'that', 'think', 'too', 'recessive', 'hair', 'disadvantage', 'say', 'family', 'case', 'or', 'Rees', 'two', 'disappear', 'problem', 'partners', 'now', 'not', '.', 'blonde', '2202', 'have', 'the', 'both', \"''\", \"'\", 'there', 'carry', '200', 'extinct', 'few', 'caused', 'told', 'do', 'reason', 'In', 'Bottle-blondes', 'highest', 'rivals', 'country', 'The', 'Germany', 'completely', 'endangered', 'bottle', 'over', 'order', 'for', 'Jonathan', 'so-called', 'Scientists', 'grandparents', 'study', 'attractive', 'a', 'A', 'may', 'suggest', 'also', 'them', 'believe', 'truly', 'blame', 'Edinburgh', 'having', 'with', 'last', 'Online', 'Blondes', 'sides', 'Finland', 'in', ',', 'men', \"n't\", \"years'\", 'dyed-blondes', '-', 'by', 'centuries', 'natural', 'Genes', 'unless', 'blondes', 'become', 'more', 'said', 'if', 'drop', 'must', 'researchers', 'beyond', 'scientists', 'die', 'professor', 'out', 'suggests'}\n"
     ]
    }
   ],
   "source": [
    "print(set(text))"
   ]
  },
  {
   "cell_type": "code",
   "execution_count": null,
   "metadata": {
    "collapsed": true
   },
   "outputs": [],
   "source": []
  }
 ],
 "metadata": {
  "kernelspec": {
   "display_name": "Python 3",
   "language": "python",
   "name": "python3"
  },
  "language_info": {
   "codemirror_mode": {
    "name": "ipython",
    "version": 3
   },
   "file_extension": ".py",
   "mimetype": "text/x-python",
   "name": "python",
   "nbconvert_exporter": "python",
   "pygments_lexer": "ipython3",
   "version": "3.6.3"
  }
 },
 "nbformat": 4,
 "nbformat_minor": 2
}
