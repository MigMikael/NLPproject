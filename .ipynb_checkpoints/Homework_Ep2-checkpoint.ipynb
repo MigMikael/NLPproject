{
 "cells": [
  {
   "cell_type": "code",
   "execution_count": 1,
   "metadata": {
    "collapsed": true
   },
   "outputs": [],
   "source": [
    "import nltk\n",
    "from nltk.corpus import *"
   ]
  },
  {
   "cell_type": "markdown",
   "metadata": {},
   "source": [
    "## 1. Create a variable phrase containing a list of words. Review the operations described in the previous chapter, including addition, multiplication, indexing, slicing, and sorting."
   ]
  },
  {
   "cell_type": "code",
   "execution_count": 15,
   "metadata": {},
   "outputs": [
    {
     "name": "stdout",
     "output_type": "stream",
     "text": [
      "Len Emma Word :  192427\n",
      "Emma Word addition:  384854\n",
      "Emma Word addition:  1154562\n",
      "Emma Word index = 23 :  comfortable\n",
      "Emma Word slicing first 10 item :  ['[', 'Emma', 'by', 'Jane', 'Austen', '1816', ']', 'VOLUME', 'I', 'CHAPTER']\n",
      "sort Emma Word first 10 item :  ['1816', 'Austen', 'CHAPTER', 'Emma', 'I', 'Jane', 'VOLUME', '[', ']', 'by']\n"
     ]
    }
   ],
   "source": [
    "emma_words = gutenberg.words('austen-emma.txt')\n",
    "print(\"Len Emma Word : \", len(emma_words))\n",
    "\n",
    "plus_words = emma_words + emma_words\n",
    "print(\"Emma Word addition: \", len(plus_words))\n",
    "\n",
    "multiplication_words = emma_word * 3\n",
    "print(\"Emma Word addition: \", len(multiplication_words))\n",
    "\n",
    "print(\"Emma Word index = 23 : \", emma_words[23])\n",
    "\n",
    "print(\"Emma Word slicing first 10 item : \", emma_words[:10])\n",
    "\n",
    "print(\"sort Emma Word first 10 item : \", sorted(emma_words[:10]))"
   ]
  },
  {
   "cell_type": "markdown",
   "metadata": {},
   "source": [
    "## 2. Use the corpus module to explore austen-persuasion.txt. How many word tokens does this book have? How many word types?"
   ]
  },
  {
   "cell_type": "code",
   "execution_count": 2,
   "metadata": {},
   "outputs": [
    {
     "name": "stdout",
     "output_type": "stream",
     "text": [
      "Word Tokens :  98171\n",
      "Word Types :  5835\n"
     ]
    }
   ],
   "source": [
    "austin_words = gutenberg.words('austen-persuasion.txt')\n",
    "print(\"Word Tokens : \", len(austin_words))\n",
    "print(\"Word Types : \", len(set([w.lower() for w in austin_words])))"
   ]
  },
  {
   "cell_type": "markdown",
   "metadata": {},
   "source": [
    "## 3. Use the Brown corpus reader nltk.corpus.brown.words() or the Web text corpus reader nltk.corpus.webtext.words() to access some sample text in two different genres."
   ]
  },
  {
   "cell_type": "code",
   "execution_count": 3,
   "metadata": {},
   "outputs": [
    {
     "name": "stdout",
     "output_type": "stream",
     "text": [
      "Word from science_fiction :  ['Now', 'that', 'he', 'knew', 'himself', 'to', 'be', ...]\n",
      "Word from religion :  ['As', 'a', 'result', ',', 'although', 'we', 'still', ...]\n"
     ]
    }
   ],
   "source": [
    "science_fiction_words = brown.words(categories='science_fiction')\n",
    "print(\"Word from science_fiction : \", science_fiction_words)\n",
    "\n",
    "religion_words = brown.words(categories='religion')\n",
    "print(\"Word from religion : \", religion_words)"
   ]
  },
  {
   "cell_type": "markdown",
   "metadata": {},
   "source": [
    "## 15. Write a program to find all words that occur at least three times in the Brown Corpus."
   ]
  },
  {
   "cell_type": "code",
   "execution_count": 16,
   "metadata": {},
   "outputs": [
    {
     "name": "stdout",
     "output_type": "stream",
     "text": [
      "adventure  :  ['dan', 'morgan', 'told', 'himself', 'he', 'would', 'forget', 'ann', '.', 'was'] ... \n",
      "belles_lettres  :  ['northern', 'liberals', 'are', 'the', 'chief', 'supporters', 'of', 'civil', 'rights', 'and'] ... \n",
      "editorial  :  ['assembly', 'session', 'brought', 'much', 'good', 'the', 'general', ',', 'which', 'today'] ... \n",
      "fiction  :  ['scotty', 'did', 'not', 'go', 'back', 'to', 'school', '.', 'his', 'parents'] ... \n",
      "government  :  ['the', 'office', 'of', 'business', 'economics', '(', ')', 'u.s.', 'department', 'commerce'] ... \n",
      "hobbies  :  ['too', 'often', 'a', 'beginning', 'bodybuilder', 'has', 'to', 'do', 'his', 'training'] ... \n",
      "humor  :  ['it', 'was', 'among', 'these', 'that', 'a', 'of', 'barco', '!', 'for'] ... \n",
      "learned  :  ['1', '.', 'introduction', 'it', 'has', 'recently', 'become', 'practical', 'to', 'use'] ... \n",
      "lore  :  ['in', 'american', ',', 'almost', 'nothing', 'rates', 'higher', 'than', 'what', 'the'] ... \n",
      "mystery  :  ['there', 'were', 'patients', 'on', 'the', 'bus', 'morning', 'i', 'left', 'for'] ... \n",
      "news  :  ['the', 'fulton', 'county', 'grand', 'jury', 'said', 'friday', 'an', 'investigation', 'of'] ... \n",
      "religion  :  ['as', 'a', 'result', ',', 'although', 'we', 'still', 'make', 'use', 'of'] ... \n",
      "reviews  :  ['it', 'is', 'not', 'news', 'that', 'milstein', 'a', 'of', 'the', 'violin'] ... \n",
      "romance  :  ['they', 'neither', 'liked', 'nor', 'disliked', 'the', 'old', 'man', '.', 'to'] ... \n",
      "science_fiction  :  ['now', 'that', 'he', 'knew', 'himself', 'to', 'be', 'self', 'was', 'free'] ... \n"
     ]
    }
   ],
   "source": [
    "for category in brown.categories():\n",
    "    category_words = brown.words(categories=category)\n",
    "    fdist = nltk.FreqDist(w.lower() for w in category_words)\n",
    "    three_time_words = [key for key, value in fdist.items() if value >= 3]\n",
    "    print(category, \" : \", three_time_words[:10], \"... \")"
   ]
  },
  {
   "cell_type": "markdown",
   "metadata": {},
   "source": [
    "## 19. Write a program to create a table of word frequencies by genre, like the one given in 1 for modals. Choose your own words and try to find words whose presence (or absence) is typical of a genre. Discuss your findings."
   ]
  },
  {
   "cell_type": "code",
   "execution_count": 5,
   "metadata": {},
   "outputs": [
    {
     "name": "stdout",
     "output_type": "stream",
     "text": [
      "                    faith   believe   miracle      fact principle    reason \n",
      "       religion        40        12         2        26         5         8 \n",
      "science_fiction         2         6         1         5         4         4 \n"
     ]
    }
   ],
   "source": [
    "cfd = nltk.ConditionalFreqDist((genre, word) for genre in brown.categories() for word in brown.words(categories=genre))\n",
    "genres = ['religion', 'science_fiction']\n",
    "modals = ['faith', 'believe', 'miracle', 'fact', 'principle', 'reason']\n",
    "cfd.tabulate(conditions=genres, samples=modals)"
   ]
  },
  {
   "cell_type": "markdown",
   "metadata": {},
   "source": []
  }
 ],
 "metadata": {
  "kernelspec": {
   "display_name": "Python 3",
   "language": "python",
   "name": "python3"
  },
  "language_info": {
   "codemirror_mode": {
    "name": "ipython",
    "version": 3
   },
   "file_extension": ".py",
   "mimetype": "text/x-python",
   "name": "python",
   "nbconvert_exporter": "python",
   "pygments_lexer": "ipython3",
   "version": "3.6.3"
  }
 },
 "nbformat": 4,
 "nbformat_minor": 2
}
